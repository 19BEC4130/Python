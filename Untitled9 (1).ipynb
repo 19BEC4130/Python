{
 "cells": [
  {
   "cell_type": "code",
   "execution_count": null,
   "id": "2f681df7",
   "metadata": {},
   "outputs": [],
   "source": [
    "import numpy as np\n",
    "import pandas as pd\n",
    "import matplotlib.pyplot as plt"
   ]
  },
  {
   "cell_type": "code",
   "execution_count": 53,
   "id": "c9ea4602",
   "metadata": {},
   "outputs": [
    {
     "name": "stdout",
     "output_type": "stream",
     "text": [
      "['He is good boy', 'He is an awesome player', 'She is the best', 'These burgers are really nice']\n",
      "['Food is worst here', 'The pizza tastes awful']\n"
     ]
    }
   ],
   "source": [
    "#1\n",
    "pos=['good','best','awesome','nice']\n",
    "neg=['worst','awful']\n",
    "posl=[]\n",
    "negl=[]\n",
    "cmt=['He is good boy','Food is worst here','He is an awesome player','She is the best','The pizza tastes awful','These burgers are really nice']\n",
    "for j in range(0,1):    \n",
    "    for i in range(0,len(c)):\n",
    "        if pos[j] in cmt[i] or pos[j+1] in cmt[i] or pos[j+2] in cmt[i] or pos[j+3] in cmt[i]:\n",
    "            posl.append(cmt[i])\n",
    "        elif neg[j] in cmt[i] or neg[j+1] in cmt[i]:\n",
    "            negl.append(cmt[i])\n",
    "print(posl)\n",
    "print(negl)"
   ]
  },
  {
   "cell_type": "code",
   "execution_count": 54,
   "id": "378b5968",
   "metadata": {},
   "outputs": [
    {
     "name": "stdout",
     "output_type": "stream",
     "text": [
      "2\n",
      "13.414213562373096\n"
     ]
    }
   ],
   "source": [
    "#2\n",
    "def add(n):\n",
    "    d = {'Square': lambda a : a**2, \n",
    "         'Cube': lambda a : a**3, \n",
    "         'Squareroot': lambda a : a**(1/2), \n",
    "         }\n",
    "    m = 0\n",
    "    for i in d.keys():\n",
    "        m += d[i](n)\n",
    "    return m\n",
    "\n",
    "x=int(input())\n",
    "print(add(x))"
   ]
  },
  {
   "cell_type": "code",
   "execution_count": 64,
   "id": "f9fbe7fd",
   "metadata": {},
   "outputs": [
    {
     "name": "stdout",
     "output_type": "stream",
     "text": [
      "['Lemon', 'Grapes', 'Kiwi', 'Orange', 'Limes']\n"
     ]
    }
   ],
   "source": [
    "#3\n",
    "fruits = (\n",
    "('Lemon', 'sour'),\n",
    "('DragonFruit', 'Sweet'),\n",
    "('Grapes', 'soUr'),\n",
    "('Kiwi', 'Sour'),\n",
    "('Apples', 'sweet'),\n",
    "('Orange','sour'),\n",
    "('Blueberries','sweet'),\n",
    "('Limes','Sour')\n",
    ")\n",
    "l1=[]\n",
    "l2=[]\n",
    "for i in range (len(fruits)):\n",
    "    if 'sour' in fruits[i] or 'Sour' in fruits[i] or 'soUr' in fruits[i] :\n",
    "        l1.append(fruits[i])\n",
    "for j in range (len(out)):\n",
    "    l2.append(out[j][0])\n",
    "print(l2)    "
   ]
  },
  {
   "cell_type": "code",
   "execution_count": 67,
   "id": "009519d6",
   "metadata": {},
   "outputs": [
    {
     "name": "stdout",
     "output_type": "stream",
     "text": [
      "['hOw', 'ARe']\n"
     ]
    }
   ],
   "source": [
    "#4\n",
    "ls=['hello','hOw','Dear','ARe','You']\n",
    "l1=[]\n",
    "for i in range(0,len(ls)):\n",
    "    s=ls[i]\n",
    "    if s[1].isupper():\n",
    "        l1.append(s)\n",
    "print(l1)"
   ]
  },
  {
   "cell_type": "code",
   "execution_count": 77,
   "id": "de193a69",
   "metadata": {},
   "outputs": [
    {
     "name": "stdout",
     "output_type": "stream",
     "text": [
      "['Maria', 'Hello', 'World', 'Marry', 'You']\n"
     ]
    }
   ],
   "source": [
    "#6\n",
    "list1=['santa Maria','Hello World','Marry christmas','tHank You']\n",
    "a=[]\n",
    "b=[]\n",
    "for i in list1:\n",
    "  a.append(i.split(' ')[0])\n",
    "  a.append(i.split(' ')[1])\n",
    "for i in n:\n",
    "    if i[0].isupper():\n",
    "      b.append(i)\n",
    "print(b)"
   ]
  },
  {
   "cell_type": "code",
   "execution_count": 76,
   "id": "6b94d05e",
   "metadata": {},
   "outputs": [
    {
     "name": "stdout",
     "output_type": "stream",
     "text": [
      "{8, 3}\n"
     ]
    }
   ],
   "source": [
    "#7\n",
    "given_sets= [[1,2,3,4,8], [2,3,8,5,6], [8,4,5,3,7],[6,9,8,3],[9,12,3,7,6,8,4,6,21,1,6]]\n",
    "c=set(given_sets[0]).intersection(*given_sets)\n",
    "print(c)"
   ]
  },
  {
   "cell_type": "code",
   "execution_count": 41,
   "id": "8c6acaa8",
   "metadata": {},
   "outputs": [
    {
     "name": "stdout",
     "output_type": "stream",
     "text": [
      "[9, 8.5, 8.0, 7.5, 7.0]\n"
     ]
    }
   ],
   "source": [
    "#8\n",
    "a= [9,8,7,6,5]\n",
    "import itertools as it\n",
    "l=[]\n",
    "l = it.accumulate(list(enumerate(a)), lambda x,y: (y[0], (x[1]*(x[0]+1) + y[1])/(y[0]+1)))\n",
    "print(list(map(lambda x: x[1], l)))"
   ]
  },
  {
   "cell_type": "code",
   "execution_count": 70,
   "id": "2327d758",
   "metadata": {},
   "outputs": [
    {
     "name": "stdout",
     "output_type": "stream",
     "text": [
      "['TRUE', 'FALSE', 'TRUE', 'TRUE', 'FALSE', 'FALSE']\n"
     ]
    }
   ],
   "source": [
    "#9\n",
    "isbool=['True','FALse','tRUe','tRue','False','faLse']\n",
    "a=map(lambda x:x.upper(),isbool)\n",
    "print(list(a))"
   ]
  },
  {
   "cell_type": "code",
   "execution_count": 74,
   "id": "4ee8ba6f",
   "metadata": {},
   "outputs": [
    {
     "name": "stdout",
     "output_type": "stream",
     "text": [
      "['1997', '2011', '1993', '2020']\n"
     ]
    }
   ],
   "source": [
    "#10\n",
    "import datetime\n",
    "date = ['17-12-1997','22-04-2011','01-05-1993','19-06-2020']\n",
    "l1=[]\n",
    "for i in date:\n",
    "    date1 = datetime.datetime.strptime(i, \"%d-%m-%Y\")\n",
    "    l1.append(str(date1.year))\n",
    "print(l1)\n"
   ]
  },
  {
   "cell_type": "code",
   "execution_count": null,
   "id": "253c05d8",
   "metadata": {},
   "outputs": [],
   "source": []
  },
  {
   "cell_type": "code",
   "execution_count": null,
   "id": "efb77206",
   "metadata": {},
   "outputs": [],
   "source": []
  }
 ],
 "metadata": {
  "kernelspec": {
   "display_name": "Python 3 (ipykernel)",
   "language": "python",
   "name": "python3"
  },
  "language_info": {
   "codemirror_mode": {
    "name": "ipython",
    "version": 3
   },
   "file_extension": ".py",
   "mimetype": "text/x-python",
   "name": "python",
   "nbconvert_exporter": "python",
   "pygments_lexer": "ipython3",
   "version": "3.9.7"
  }
 },
 "nbformat": 4,
 "nbformat_minor": 5
}
